{
  "nbformat": 4,
  "nbformat_minor": 0,
  "metadata": {
    "colab": {
      "provenance": [],
      "authorship_tag": "ABX9TyP/xyEaEGww00iUrBLaW8V3",
      "include_colab_link": true
    },
    "kernelspec": {
      "name": "python3",
      "display_name": "Python 3"
    },
    "language_info": {
      "name": "python"
    }
  },
  "cells": [
    {
      "cell_type": "markdown",
      "metadata": {
        "id": "view-in-github",
        "colab_type": "text"
      },
      "source": [
        "<a href=\"https://colab.research.google.com/github/Tanish-Aravind/CODING-SAMURAI-INTERNSHIP-TASK/blob/main/DigitRecognition.ipynb\" target=\"_parent\"><img src=\"https://colab.research.google.com/assets/colab-badge.svg\" alt=\"Open In Colab\"/></a>"
      ]
    },
    {
      "cell_type": "code",
      "source": [
        "from sklearn.datasets import fetch_openml\n",
        "from sklearn.model_selection import cross_val_score\n",
        "from sklearn.linear_model import LogisticRegression\n",
        "from sklearn.preprocessing import StandardScaler\n",
        "from sklearn.pipeline import make_pipeline\n",
        "import numpy as np\n",
        "import matplotlib.pyplot as plt\n",
        "\n",
        "# Load MNIST data as arrays\n",
        "mnist = fetch_openml('MNIST_784', as_frame=False, parser='auto')\n",
        "x, y = mnist['data'].astype(np.float32), mnist['target'].astype(np.uint8)\n",
        "\n",
        "# Split into train and test sets\n",
        "x_train, x_test = x[:60000], x[60000:]\n",
        "y_train, y_test = y[:60000], y[60000:]\n",
        "\n",
        "# Shuffle training set\n",
        "shuffle_idx = np.random.permutation(len(x_train))\n",
        "x_train, y_train = x_train[shuffle_idx], y_train[shuffle_idx]\n",
        "\n",
        "# Create binary target for digit '2'\n",
        "y_train_2 = (y_train == 2)\n",
        "y_test_2 = (y_test == 2)\n",
        "\n",
        "# Build optimized pipeline\n",
        "clf = make_pipeline(\n",
        "    StandardScaler(),\n",
        "    LogisticRegression(\n",
        "        solver='liblinear',\n",
        "        max_iter=1000,\n",
        "        tol=1e-3,\n",
        "        C=0.5,\n",
        "        random_state=42,\n",
        "        warm_start=True\n",
        "    )\n",
        ")\n",
        "\n",
        "# Parallel cross-validation\n",
        "scores = cross_val_score(\n",
        "    clf,\n",
        "    x_train,\n",
        "    y_train_2,\n",
        "    cv=5,\n",
        "    scoring=\"accuracy\",\n",
        "    n_jobs=-1  # Enable parallel processing\n",
        ")\n",
        "print(f\"Mean cross-validation accuracy: {scores.mean():.4f}\")\n",
        "\n",
        "# Fit final model\n",
        "clf.fit(x_train, y_train_2)\n",
        "\n",
        "# Predict sample digit\n",
        "some_digit = x[36001].reshape(1, -1)\n",
        "prediction = clf.predict(some_digit)\n",
        "print(f\"Prediction for sample digit at index 36001 is '2': {bool(prediction)}\")\n",
        "\n",
        "# Plot the sample digit\n",
        "some_digit_image = some_digit.reshape(28, 28)\n",
        "plt.imshow(some_digit_image, cmap='binary', interpolation='nearest')\n",
        "plt.axis('off')\n",
        "plt.show()\n"
      ],
      "metadata": {
        "colab": {
          "base_uri": "https://localhost:8080/",
          "height": 441
        },
        "id": "ultnUVFZMsoh",
        "outputId": "9ee7ba96-15ba-4b27-9a0b-32cd21c6263d"
      },
      "execution_count": 6,
      "outputs": [
        {
          "output_type": "stream",
          "name": "stdout",
          "text": [
            "Mean cross-validation accuracy: 0.9783\n",
            "Prediction for sample digit at index 36001 is '2': True\n"
          ]
        },
        {
          "output_type": "display_data",
          "data": {
            "text/plain": [
              "<Figure size 640x480 with 1 Axes>"
            ],
            "image/png": "[encoded data removed]"
          },
          "metadata": {}
        }
      ]
    }
  ]
}